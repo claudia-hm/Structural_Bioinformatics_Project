{
 "cells": [
  {
   "cell_type": "markdown",
   "id": "053ae3f5",
   "metadata": {},
   "source": [
    "# Task 1: conformational relationships within a single ensemble"
   ]
  },
  {
   "cell_type": "markdown",
   "id": "e6d7f893",
   "metadata": {},
   "source": [
    "Relationships within an ensemble will be identified considering the structural features of single\n",
    "conformations"
   ]
  },
  {
   "cell_type": "markdown",
   "id": "526abe25",
   "metadata": {},
   "source": [
    "### 0. Set-up"
   ]
  },
  {
   "cell_type": "code",
   "execution_count": 1,
   "id": "627aa029",
   "metadata": {},
   "outputs": [],
   "source": [
    "import numpy as np\n",
    "from Bio.PDB import PDBList, Superimposer, is_aa\n",
    "from Bio.PDB.PDBParser import PDBParser\n",
    "import requests\n",
    "import math\n",
    "import matplotlib.pyplot as plt"
   ]
  },
  {
   "cell_type": "code",
   "execution_count": 2,
   "id": "326fbbf9",
   "metadata": {},
   "outputs": [],
   "source": [
    "feature_folder = \"./features/\"\n",
    "dist_mat_folder = feature_folder + \"distance_matrices/\""
   ]
  },
  {
   "cell_type": "markdown",
   "id": "a673772c",
   "metadata": {},
   "source": [
    "### 1. Load PDB structures of one single PED ensemble"
   ]
  },
  {
   "cell_type": "markdown",
   "id": "f56617c1",
   "metadata": {},
   "source": [
    "Download PED ensembles"
   ]
  },
  {
   "cell_type": "code",
   "execution_count": 7,
   "id": "0927b650",
   "metadata": {},
   "outputs": [
    {
     "name": "stdout",
     "output_type": "stream",
     "text": [
      "Structure and dynamics of the MKK7\n"
     ]
    }
   ],
   "source": [
    "ped_id = \"PED00153\"\n",
    "url = \"https://proteinensemble.org/api/\" + ped_id\n",
    "resp_json = requests.get(url).json()\n",
    "print(resp_json[\"title\"])\n",
    "ensembles_ids = []\n",
    "for curr_ensemble in resp_json[\"ensembles\"]:\n",
    "    ensembles_ids.append(curr_ensemble[\"ensemble_id\"])\n",
    "\n",
    "# get direct link to the downloadable file (url as string)\n",
    "url = \"https://proteinensemble.org/api/download\"\n",
    "parameters = {\n",
    "   \"ensemble_id\": ensembles_ids\n",
    "}\n",
    "download_link = requests.get(url, params=parameters).text\n",
    "resp_file = requests.get(download_link.replace('\"', ''))\n",
    "\n",
    "# download ensembles\n",
    "with open(\"data/\" + ped_id + \".tar\", \"wb\") as f:\n",
    "    f.write(resp_file.content)\n",
    "  "
   ]
  },
  {
   "cell_type": "markdown",
   "id": "56334fd0",
   "metadata": {},
   "source": [
    "Extract compressed files"
   ]
  },
  {
   "cell_type": "code",
   "execution_count": 4,
   "id": "a2750573",
   "metadata": {},
   "outputs": [],
   "source": [
    "tar_to_extract = \"./data/\" + ped_id + \".tar\"\n",
    "data_folder = \"./data/\""
   ]
  },
  {
   "cell_type": "code",
   "execution_count": 5,
   "id": "a01f8e49",
   "metadata": {},
   "outputs": [
    {
     "name": "stdout",
     "output_type": "stream",
     "text": [
      "x PED00153e007.pdb.tar.gz\n",
      "x PED00153e008.pdb.tar.gz\n",
      "x PED00153e009.pdb.tar.gz\n",
      "x PED00153e010.pdb.tar.gz\n",
      "x PED00153e011.pdb.tar.gz\n"
     ]
    }
   ],
   "source": [
    "!tar -xzvf $tar_to_extract -C $data_folder"
   ]
  },
  {
   "cell_type": "code",
   "execution_count": 6,
   "id": "b72b2a3b",
   "metadata": {},
   "outputs": [
    {
     "ename": "NameError",
     "evalue": "name 'ensembles_ids' is not defined",
     "output_type": "error",
     "traceback": [
      "\u001b[0;31m---------------------------------------------------------------------------\u001b[0m",
      "\u001b[0;31mNameError\u001b[0m                                 Traceback (most recent call last)",
      "\u001b[0;32m<ipython-input-6-1fa1a714731f>\u001b[0m in \u001b[0;36m<module>\u001b[0;34m\u001b[0m\n\u001b[0;32m----> 1\u001b[0;31m \u001b[0;32mfor\u001b[0m \u001b[0mensemble\u001b[0m \u001b[0;32min\u001b[0m \u001b[0mensembles_ids\u001b[0m\u001b[0;34m:\u001b[0m\u001b[0;34m\u001b[0m\u001b[0;34m\u001b[0m\u001b[0m\n\u001b[0m\u001b[1;32m      2\u001b[0m     \u001b[0mtar_to_extract\u001b[0m \u001b[0;34m=\u001b[0m \u001b[0;34m\"./data/\"\u001b[0m \u001b[0;34m+\u001b[0m \u001b[0mensemble\u001b[0m \u001b[0;34m+\u001b[0m \u001b[0;34m\".pdb.tar.gz\"\u001b[0m\u001b[0;34m\u001b[0m\u001b[0;34m\u001b[0m\u001b[0m\n\u001b[1;32m      3\u001b[0m     \u001b[0mget_ipython\u001b[0m\u001b[0;34m(\u001b[0m\u001b[0;34m)\u001b[0m\u001b[0;34m.\u001b[0m\u001b[0msystem\u001b[0m\u001b[0;34m(\u001b[0m\u001b[0;34m'tar -xzvf $tar_to_extract -C $data_folder'\u001b[0m\u001b[0;34m)\u001b[0m\u001b[0;34m\u001b[0m\u001b[0;34m\u001b[0m\u001b[0m\n",
      "\u001b[0;31mNameError\u001b[0m: name 'ensembles_ids' is not defined"
     ]
    }
   ],
   "source": [
    "for ensemble in ensembles_ids:\n",
    "    tar_to_extract = \"./data/\" + ensemble + \".pdb.tar.gz\"\n",
    "    !tar -xzvf $tar_to_extract -C $data_folder"
   ]
  },
  {
   "cell_type": "markdown",
   "id": "fb92fd6a",
   "metadata": {},
   "source": [
    "Select the first ensemble and retrieve number of conformations and residues"
   ]
  },
  {
   "cell_type": "code",
   "execution_count": 8,
   "id": "51589a19",
   "metadata": {},
   "outputs": [],
   "source": [
    "ensemble_id = ensembles_ids[0]\n",
    "ensemble = PDBParser(QUIET=True).get_structure(ensembles_ids[0], \"data/{}.pdb\".format(ensemble_id))"
   ]
  },
  {
   "cell_type": "code",
   "execution_count": 9,
   "id": "ca8129e9",
   "metadata": {},
   "outputs": [],
   "source": [
    "M = len(ensemble)\n",
    "N = 0"
   ]
  },
  {
   "cell_type": "code",
   "execution_count": 10,
   "id": "73f71f0c",
   "metadata": {},
   "outputs": [],
   "source": [
    "structure_0 = ensemble[0]\n",
    "for chain in structure_0:\n",
    "    for residue in chain:\n",
    "        if is_aa(residue):  # Filter hetero groups (returns only amino acids)\n",
    "                # residue.id tuple contains hetero_flag, position, insertion_code\n",
    "                # print(\"model {} chain {} residue_id {} resname {} resname_3to1 {}\".format(model.id, chain.id, residue.id, residue.get_resname(),\n",
    "                #                                        IUPACData.protein_letters_3to1.get(residue.get_resname().capitalize())))\n",
    "            N+=1\n",
    "            #for atom in residue:\n",
    "                #print(\"atom {} {} {}\".format(atom.id, atom.get_bfactor(), atom.get_coord()))\n",
    "        else:\n",
    "            print(residue.id)"
   ]
  },
  {
   "cell_type": "code",
   "execution_count": 11,
   "id": "d655e75c",
   "metadata": {},
   "outputs": [
    {
     "name": "stdout",
     "output_type": "stream",
     "text": [
      "Number of residues in one conformation: 100\n",
      "Number of conformations in one ensemble: 200\n"
     ]
    }
   ],
   "source": [
    "print(\"Number of residues in one conformation: \" + str(N))\n",
    "print(\"Number of conformations in one ensemble: \" + str(M))"
   ]
  },
  {
   "cell_type": "markdown",
   "id": "f3002ed6",
   "metadata": {},
   "source": [
    "### 2. Feature extraction\n",
    "In the following we summarize the single conformation features that we are going to compute"
   ]
  },
  {
   "cell_type": "markdown",
   "id": "4fd447c3",
   "metadata": {},
   "source": [
    "* Single conformation features\n",
    "\n",
    "| Feature       | Dimension     |\n",
    "| :------------- |:-------------|\n",
    "| Radius of gyration of the structure | Scalar |\n",
    "| Relative accessible surface area (ASA) for each residue | Vector of size $N$      |\n",
    "| Secondary structure (SS) for each residue and class | Vector of size $N$       |\n",
    "|Residue distance matrix considering Cα atoms | Matrix of shape $N \\times N$ (symmetric) |\n",
    "\n",
    "where $N$ is the number of residues in one conformation.\n",
    "\n",
    "* Ensembles features (multiple conformations)\n",
    "\n",
    "| Feature       | Dimension     |\n",
    "| :------------- |:-------------|\n",
    "| Radius of gyration for each conformation in the ensemble | Vector of size $M$ |\n",
    "| Secondary structure entropy for each position across ensemble conformations | Vector of size $N$      |\n",
    "| Median solvent accessibility for each position across ensemble conformations | Vector of size $N$       |\n",
    "| Median RMSD for each position across ensemble conformations | Vector of size $N$ |\n",
    "| Median distance of each pair of equivalent positions across ensemble conformations | Matrix of shape $N \\times N$ (symmetric) |\n",
    "|Standard deviation of the distance of each pair of equivalent positions across ensemble conformations|Matrix of shape $N \\times N$ (symmetric) |\n",
    "\n",
    "where $N$ is the number of residues in one conformation and $M$ is the number of conformations in one ensemble."
   ]
  },
  {
   "cell_type": "markdown",
   "id": "d114df41",
   "metadata": {},
   "source": [
    "* Claudia --> 1, 4\n",
    "* Matteo --> 2\n",
    "* Leonardo --> 3\n",
    "\n",
    "Leggere un po Lazar."
   ]
  },
  {
   "cell_type": "markdown",
   "id": "7f420182",
   "metadata": {},
   "source": [
    "#### Radius of gyration"
   ]
  },
  {
   "cell_type": "code",
   "execution_count": 12,
   "id": "81cc38cc",
   "metadata": {},
   "outputs": [],
   "source": [
    "def radius_gyration(chain):\n",
    "    '''\n",
    "    Calculates the Radius of Gyration (Rg) of a protein in Angstroms.\n",
    "    Does not use mass and assume heavy atoms have the same mass.\n",
    "\n",
    "    https://en.wikipedia.org/wiki/Radius_of_gyration  (formula considering mass)\n",
    "    https://link.springer.com/article/10.1134/S0026893308040195  (formula without mass)\n",
    "    '''\n",
    "\n",
    "    # Heavy atoms coordinates\n",
    "    coord = list()\n",
    "    for atom in chain.get_atoms():\n",
    "        if atom.get_name()[0] in ['C', 'O', 'N', 'S']:\n",
    "            coord.append(atom.get_coord())\n",
    "    coord = np.array(coord)  # N X 3\n",
    "\n",
    "    barycenter = np.sum(coord, axis=0) / coord.shape[0]  # center of mass is more correct\n",
    "\n",
    "    # Calculate distance of each atom from the barycenter\n",
    "    dist = coord - barycenter\n",
    "    dist = dist * dist\n",
    "    dist = np.sqrt(np.sum(dist, axis=1))\n",
    "    #print(dist)\n",
    "\n",
    "    return round(math.sqrt(np.sum(dist * dist) / len(coord)), 3)"
   ]
  },
  {
   "cell_type": "code",
   "execution_count": 13,
   "id": "78d2e749",
   "metadata": {},
   "outputs": [
    {
     "name": "stdout",
     "output_type": "stream",
     "text": [
      "Radius of gyration of the first structure: 34.18\n"
     ]
    }
   ],
   "source": [
    "print(\"Radius of gyration of the first structure: %.2f\" % radius_gyration(structure_0))"
   ]
  },
  {
   "cell_type": "code",
   "execution_count": 29,
   "id": "16c40b1c",
   "metadata": {},
   "outputs": [
    {
     "name": "stdout",
     "output_type": "stream",
     "text": [
      "0: 34.184\n",
      "1: 29.589\n",
      "2: 27.087\n",
      "3: 35.327\n",
      "4: 44.39\n",
      "5: 25.498\n",
      "6: 30.326\n",
      "7: 19.37\n",
      "8: 31.123\n",
      "9: 31.011\n",
      "10: 36.825\n",
      "11: 25.658\n",
      "12: 30.355\n",
      "13: 23.557\n",
      "14: 26.491\n",
      "15: 41.279\n",
      "16: 21.284\n",
      "17: 31.084\n",
      "18: 32.851\n",
      "19: 35.308\n",
      "20: 24.776\n",
      "21: 30.246\n",
      "22: 21.757\n",
      "23: 28.006\n",
      "24: 34.078\n",
      "25: 19.717\n",
      "26: 33.913\n",
      "27: 26.691\n",
      "28: 29.471\n",
      "29: 42.424\n",
      "30: 27.349\n",
      "31: 37.427\n",
      "32: 36.111\n",
      "33: 28.582\n",
      "34: 41.316\n",
      "35: 42.608\n",
      "36: 25.103\n",
      "37: 45.298\n",
      "38: 37.116\n",
      "39: 34.504\n",
      "40: 32.038\n",
      "41: 31.623\n",
      "42: 35.122\n",
      "43: 43.265\n",
      "44: 38.567\n",
      "45: 25.94\n",
      "46: 26.696\n",
      "47: 26.112\n",
      "48: 29.546\n",
      "49: 37.058\n",
      "50: 23.236\n",
      "51: 27.254\n",
      "52: 37.275\n",
      "53: 44.703\n",
      "54: 22.967\n",
      "55: 26.16\n",
      "56: 29.356\n",
      "57: 34.071\n",
      "58: 28.827\n",
      "59: 31.005\n",
      "60: 29.851\n",
      "61: 25.988\n",
      "62: 40.19\n",
      "63: 21.962\n",
      "64: 23.106\n",
      "65: 34.339\n",
      "66: 26.3\n",
      "67: 33.504\n",
      "68: 30.464\n",
      "69: 44.837\n",
      "70: 29.939\n",
      "71: 33.102\n",
      "72: 32.922\n",
      "73: 38.041\n",
      "74: 31.106\n",
      "75: 36.897\n",
      "76: 22.666\n",
      "77: 23.311\n",
      "78: 36.336\n",
      "79: 25.444\n",
      "80: 40.179\n",
      "81: 45.349\n",
      "82: 25.115\n",
      "83: 36.974\n",
      "84: 35.823\n",
      "85: 54.192\n",
      "86: 49.303\n",
      "87: 29.894\n",
      "88: 26.236\n",
      "89: 64.951\n",
      "90: 27.946\n",
      "91: 32.251\n",
      "92: 20.29\n",
      "93: 28.441\n",
      "94: 28.534\n",
      "95: 32.56\n",
      "96: 27.373\n",
      "97: 31.005\n",
      "98: 32.653\n",
      "99: 41.441\n",
      "100: 41.635\n",
      "101: 37.491\n",
      "102: 32.548\n",
      "103: 28.048\n",
      "104: 21.565\n",
      "105: 26.59\n",
      "106: 25.343\n",
      "107: 22.742\n",
      "108: 36.632\n",
      "109: 40.1\n",
      "110: 21.245\n",
      "111: 30.629\n",
      "112: 32.459\n",
      "113: 37.916\n",
      "114: 39.985\n",
      "115: 35.415\n",
      "116: 35.849\n",
      "117: 43.573\n",
      "118: 35.841\n",
      "119: 46.401\n",
      "120: 30.518\n",
      "121: 27.201\n",
      "122: 38.634\n",
      "123: 28.333\n",
      "124: 33.565\n",
      "125: 42.672\n",
      "126: 37.86\n",
      "127: 31.715\n",
      "128: 29.348\n",
      "129: 30.914\n",
      "130: 29.343\n",
      "131: 35.682\n",
      "132: 40.866\n",
      "133: 42.132\n",
      "134: 28.73\n",
      "135: 29.262\n",
      "136: 34.856\n",
      "137: 30.554\n",
      "138: 43.649\n",
      "139: 37.89\n",
      "140: 41.417\n",
      "141: 38.346\n",
      "142: 27.601\n",
      "143: 31.023\n",
      "144: 39.197\n",
      "145: 33.123\n",
      "146: 33.594\n",
      "147: 31.619\n",
      "148: 33.739\n",
      "149: 34.783\n",
      "150: 30.64\n",
      "151: 25.309\n",
      "152: 36.535\n",
      "153: 45.773\n",
      "154: 33.38\n",
      "155: 28.655\n",
      "156: 24.018\n",
      "157: 42.31\n",
      "158: 52.207\n",
      "159: 37.23\n",
      "160: 21.892\n",
      "161: 35.816\n",
      "162: 45.937\n",
      "163: 29.323\n",
      "164: 36.353\n",
      "165: 46.344\n",
      "166: 28.786\n",
      "167: 25.888\n",
      "168: 32.965\n",
      "169: 33.684\n",
      "170: 40.707\n",
      "171: 28.018\n",
      "172: 39.164\n",
      "173: 35.735\n",
      "174: 31.68\n",
      "175: 36.492\n",
      "176: 29.774\n",
      "177: 34.671\n",
      "178: 25.611\n",
      "179: 45.899\n",
      "180: 36.149\n",
      "181: 27.559\n",
      "182: 31.378\n",
      "183: 40.547\n",
      "184: 22.932\n",
      "185: 37.682\n",
      "186: 38.202\n",
      "187: 42.124\n",
      "188: 34.443\n",
      "189: 26.809\n",
      "190: 26.412\n",
      "191: 35.724\n",
      "192: 29.321\n",
      "193: 37.693\n",
      "194: 27.988\n",
      "195: 31.565\n",
      "196: 23.476\n",
      "197: 30.052\n",
      "198: 30.154\n",
      "199: 33.105\n"
     ]
    }
   ],
   "source": [
    "RG = np.zeros(M)\n",
    "for i in range(M):\n",
    "    RG[i]= radius_gyration(ensemble[i])\n",
    "    #print('{}: {}'.format(ensemble[i].id,radius_gyration(ensemble[i])))"
   ]
  },
  {
   "cell_type": "code",
   "execution_count": 26,
   "id": "occupied-transition",
   "metadata": {},
   "outputs": [
    {
     "data": {
      "text/plain": [
       "'34.184'"
      ]
     },
     "execution_count": 26,
     "metadata": {},
     "output_type": "execute_result"
    }
   ],
   "source": [
    "str(radius_gyration(ensemble[i]))"
   ]
  },
  {
   "cell_type": "code",
   "execution_count": 14,
   "id": "701a2344",
   "metadata": {},
   "outputs": [],
   "source": [
    "np.save(feature_folder + \"radius_gyration.npy\", RG)"
   ]
  },
  {
   "cell_type": "markdown",
   "id": "bffe9d60",
   "metadata": {},
   "source": [
    "#### Residue distance matrix considering Cα atoms"
   ]
  },
  {
   "cell_type": "code",
   "execution_count": 30,
   "id": "d952cfee",
   "metadata": {},
   "outputs": [],
   "source": [
    "def get_distance_matrix(residues, seq_sep=6):\n",
    "\n",
    "    # Calculate the distance matrix\n",
    "    distances = []\n",
    "    for residue1 in residues:\n",
    "        if residue1.id[0] == \" \":  # Exclude hetero/water residues\n",
    "            row = []\n",
    "            for residue2 in residues:\n",
    "                if residue2.id[0] == \" \":  # Exclude hetero/water residues\n",
    "                    if abs(residue1.id[1] - residue2.id[1]) >= seq_sep:\n",
    "                        row.append(residue1[\"CA\"] - residue2[\"CA\"])\n",
    "                    else:\n",
    "                        row.append(None)\n",
    "            distances.append(row)\n",
    "\n",
    "    return np.array(distances, dtype=float)"
   ]
  },
  {
   "cell_type": "code",
   "execution_count": 32,
   "id": "e92085c7",
   "metadata": {},
   "outputs": [],
   "source": [
    "sequence_separation = 0\n",
    "distance_matrices = []\n",
    "for i in range(M): \n",
    "    dist_matrix = get_distance_matrix(ensemble[i]['A'], sequence_separation)\n",
    "    distance_matrices.append(dist_matrix)\n",
    "    np.save(dist_mat_folder + ensemble_id + \"_\" + str(i) + \".npy\", dist_matrix)"
   ]
  },
  {
   "cell_type": "markdown",
   "id": "a49e95ed",
   "metadata": {},
   "source": [
    "#### Median distance of each pair of equivalent positions across ensemble conformations."
   ]
  },
  {
   "cell_type": "code",
   "execution_count": 33,
   "id": "b8e0efd5",
   "metadata": {},
   "outputs": [],
   "source": [
    "med_distance = np.zeros((N,N))\n",
    "for i in range(N): #for \n",
    "    for j in range(N):#for every conformation\n",
    "        distances = []\n",
    "        for k in range(M):\n",
    "            distances.append(distance_matrices[k][i,j])\n",
    "        med_distance[i,j] = np.median(distances)"
   ]
  },
  {
   "cell_type": "code",
   "execution_count": 18,
   "id": "f374ee31",
   "metadata": {},
   "outputs": [],
   "source": [
    "np.save(feature_folder + \"median_distance.npy\", med_distance)"
   ]
  },
  {
   "cell_type": "code",
   "execution_count": 19,
   "id": "2f6e42ee",
   "metadata": {},
   "outputs": [
    {
     "data": {
      "image/png": "[encoded data removed]",
      "text/plain": [
       "<Figure size 432x432 with 2 Axes>"
      ]
     },
     "metadata": {
      "needs_background": "light"
     },
     "output_type": "display_data"
    }
   ],
   "source": [
    "fig, ax = plt.subplots(figsize=(6, 6))\n",
    "im = ax.imshow(med_distance)\n",
    "fig.colorbar(im, fraction=0.03, pad=0.05)\n",
    "plt.title(\"Median distance between equivalent residues across ensemble conformations\")\n",
    "plt.show()"
   ]
  },
  {
   "cell_type": "markdown",
   "id": "501eebf8",
   "metadata": {},
   "source": [
    "#### Standard deviation of the distance of each pair of equivalent positions across ensemble conformations"
   ]
  },
  {
   "cell_type": "code",
   "execution_count": 35,
   "id": "cc8b4fc5",
   "metadata": {},
   "outputs": [],
   "source": [
    "stdev_distance = np.zeros((N,N))\n",
    "for i in range(N): #for \n",
    "    for j in range(N):#for every conformation\n",
    "        distances = []\n",
    "        for k in range(M):\n",
    "            distances.append(distance_matrices[k][i,j])\n",
    "        stdev_distance[i,j] = np.std(distances)"
   ]
  },
  {
   "cell_type": "code",
   "execution_count": 36,
   "id": "b1a77e47",
   "metadata": {},
   "outputs": [
    {
     "data": {
      "image/png": "[encoded data removed]",
      "text/plain": [
       "<Figure size 432x432 with 2 Axes>"
      ]
     },
     "metadata": {
      "needs_background": "light"
     },
     "output_type": "display_data"
    }
   ],
   "source": [
    "fig, ax = plt.subplots(figsize=(6, 6))\n",
    "im = ax.imshow(stdev_distance)\n",
    "fig.colorbar(im, fraction=0.03, pad=0.05)\n",
    "plt.title(\"Standard deviation of the distance of each pair of equivalent positions across ensemble conformations\")\n",
    "plt.show()"
   ]
  },
  {
   "cell_type": "code",
   "execution_count": 37,
   "id": "d72eda55",
   "metadata": {},
   "outputs": [],
   "source": [
    "np.save(feature_folder + \"stdev_distance.npy\", stdev_distance)"
   ]
  },
  {
   "cell_type": "code",
   "execution_count": 38,
   "id": "16f1c5e1",
   "metadata": {},
   "outputs": [
    {
     "data": {
      "image/png": "[encoded data removed]",
      "text/plain": [
       "<Figure size 432x432 with 2 Axes>"
      ]
     },
     "metadata": {
      "needs_background": "light"
     },
     "output_type": "display_data"
    }
   ],
   "source": [
    "#upper matrix med_matrix, lower matrix sd_matrix\n",
    "med_stdev_matrix= np.zeros((N,N))\n",
    "\n",
    "for i in range(N):\n",
    "    for j in range(N):\n",
    "        if j> i:\n",
    "            med_stdev_matrix[i,j]=med_distance[i,j]\n",
    "        elif j<i:\n",
    "            med_stdev_matrix[i,j]=stdev_distance[i,j]\n",
    "        else:\n",
    "            med_stdev_matrix[i,j]=0    \n",
    "            \n",
    "            \n",
    "fig, ax = plt.subplots(figsize=(6, 6))\n",
    "im = ax.imshow(med_stdev_matrix)\n",
    "fig.colorbar(im, fraction=0.03, pad=0.05)\n",
    "plt.title(\"Median(upper) and Sd(lower) of the distance of each pair of equivalent positions across ensemble conformations\")\n",
    "plt.show()\n",
    "            \n",
    "                \n",
    "\n"
   ]
  },
  {
   "cell_type": "markdown",
   "id": "0241526f",
   "metadata": {},
   "source": [
    "#### Median RMSD for each position across ensemble conformations 1."
   ]
  },
  {
   "cell_type": "code",
   "execution_count": 39,
   "id": "ad731971",
   "metadata": {},
   "outputs": [],
   "source": [
    "# Superimpose all models to the first model, fragment-by-fragment (sliding window)\n",
    "super_imposer = Superimposer()\n",
    "structure_rmsd_fragments = []  # RMSD, no_models X no_fragments X fragment_size\n",
    "window_size = 5\n",
    "ref_model = [atom for atom in ensemble[0].get_atoms() if atom.get_name() == \"CA\"]  # CA of the first model"
   ]
  },
  {
   "cell_type": "code",
   "execution_count": 40,
   "id": "6cf43fce",
   "metadata": {},
   "outputs": [],
   "source": [
    "# Iterate all models\n",
    "for i, model in enumerate(ensemble):\n",
    "    if i > 0:\n",
    "        model_rmsd = []  # RMSD, no_fragment X fragment_size\n",
    "        alt_model = [atom for atom in model.get_atoms() if atom.get_name() == \"CA\"]  # coords of the model\n",
    "\n",
    "        # Iterate fragments\n",
    "        for start in range(len(ref_model) - window_size):\n",
    "            end = start + window_size\n",
    "            ref_fragment = ref_model[start:end]\n",
    "            alt_fragment = alt_model[start:end]\n",
    "\n",
    "            # Calculate rotation/translation matrices\n",
    "            super_imposer.set_atoms(ref_fragment, alt_fragment)\n",
    "            # print(super_imposer.rms, super_imposer.rotran)\n",
    "\n",
    "            # Rotate-translate coordinates\n",
    "            alt_fragment_coord = np.array([atom.get_coord() for atom in alt_fragment])\n",
    "            alt_fragment_coord = np.dot(super_imposer.rotran[0].T, alt_fragment_coord.T).T\n",
    "            alt_fragment_coord = alt_fragment_coord + super_imposer.rotran[1]\n",
    "\n",
    "            # Calculate RMSD\n",
    "            # https://en.wikipedia.org/wiki/Root-mean-square_deviation_of_atomic_positions\n",
    "            ref_fragment_coord = np.array([atom.get_coord() for atom in ref_fragment])\n",
    "            dist = ref_fragment_coord - alt_fragment_coord\n",
    "            # rmsd_fragment = np.sqrt(np.sum(dist * dist) / window_size)  # Total RMSD of the fragment. Identical to super_imposer.rms\n",
    "            rmsd_res = np.sqrt(np.sum(dist * dist, axis=1))  # RMSD for each residue of the fragment\n",
    "\n",
    "            model_rmsd.append(rmsd_res)\n",
    "\n",
    "        structure_rmsd_fragments.append(model_rmsd)"
   ]
  },
  {
   "cell_type": "code",
   "execution_count": 41,
   "id": "3eb5fcf8",
   "metadata": {},
   "outputs": [],
   "source": [
    "# Calculate average RMSD per position\n",
    "structure_rmsd_fragments = np.array(structure_rmsd_fragments)  # no_models X no_fragments X fragment_size\n",
    "# Calculate the RMSD average for each fragments along all models\n",
    "structure_rmsd_fragments = np.average(structure_rmsd_fragments, axis=0)  # no_fragments X fragment_size"
   ]
  },
  {
   "cell_type": "code",
   "execution_count": 55,
   "id": "afa7acb0",
   "metadata": {},
   "outputs": [
    {
     "name": "stdout",
     "output_type": "stream",
     "text": [
      "(95, 100)\n"
     ]
    }
   ],
   "source": [
    "# Pad with right zeros to reach the sequence length (no_fragments + fragment_size)\n",
    "structure_rmsd_fragments = np.pad(structure_rmsd_fragments, ((0, 0), (0, structure_rmsd_fragments.shape[0])))\n",
    "print(structure_rmsd_fragments.shape)"
   ]
  },
  {
   "cell_type": "code",
   "execution_count": 56,
   "id": "50fda08c",
   "metadata": {},
   "outputs": [
    {
     "name": "stdout",
     "output_type": "stream",
     "text": [
      "[[1.85823796 1.97971182 2.3327567  ... 0.         0.         0.        ]\n",
      " [0.         2.53141234 3.49803438 ... 0.         0.         0.        ]\n",
      " [0.         0.         2.75601637 ... 0.         0.         0.        ]\n",
      " ...\n",
      " [0.         0.         0.         ... 0.         0.         0.        ]\n",
      " [0.         0.         0.         ... 1.60147405 0.         0.        ]\n",
      " [0.         0.         0.         ... 1.77217244 1.87157774 0.        ]]\n"
     ]
    }
   ],
   "source": [
    "# Roll the fragments one by one (add heading zeros)\n",
    "for i, row in enumerate(structure_rmsd_fragments):\n",
    "    structure_rmsd_fragments[i] = np.roll(row, i)\n",
    "print(structure_rmsd_fragments)"
   ]
  },
  {
   "cell_type": "code",
   "execution_count": 88,
   "id": "c898516d",
   "metadata": {},
   "outputs": [
    {
     "data": {
      "text/plain": [
       "array([0.        , 0.        , 0.        , 0.        , 0.        ,\n",
       "       0.        , 0.        , 0.        , 0.        , 0.        ,\n",
       "       0.        , 0.        , 0.        , 0.        , 0.        ,\n",
       "       0.        , 0.        , 0.        , 0.        , 0.        ,\n",
       "       0.        , 0.        , 0.        , 0.        , 0.        ,\n",
       "       0.        , 0.        , 0.        , 0.        , 0.        ,\n",
       "       0.        , 0.        , 0.        , 0.        , 0.        ,\n",
       "       0.        , 0.        , 0.        , 0.        , 0.        ,\n",
       "       0.        , 0.        , 0.        , 0.        , 0.        ,\n",
       "       0.        , 0.        , 0.        , 0.        , 0.        ,\n",
       "       0.        , 0.        , 0.        , 0.        , 0.        ,\n",
       "       0.        , 0.        , 0.        , 0.        , 0.        ,\n",
       "       0.        , 0.        , 0.        , 0.        , 0.        ,\n",
       "       0.        , 0.        , 0.        , 0.        , 0.        ,\n",
       "       0.        , 0.        , 0.        , 0.        , 0.        ,\n",
       "       0.        , 0.        , 0.        , 0.        , 0.        ,\n",
       "       0.        , 0.        , 0.        , 0.        , 0.        ,\n",
       "       0.        , 0.        , 0.        , 0.        , 0.        ,\n",
       "       0.        , 0.        , 0.        , 0.        , 1.77217244,\n",
       "       1.87157774, 1.46729031, 1.80470413, 1.61334661, 0.        ])"
      ]
     },
     "execution_count": 88,
     "metadata": {},
     "output_type": "execute_result"
    }
   ],
   "source": [
    "structure_rmsd_fragments[94]"
   ]
  },
  {
   "cell_type": "code",
   "execution_count": 57,
   "id": "75228cea",
   "metadata": {},
   "outputs": [],
   "source": [
    "# Calculate average along columns of overlapping fragments (average RMSD per residue)\n",
    "structure_rmsd_median = np.median(structure_rmsd_fragments, axis=0)"
   ]
  },
  {
   "cell_type": "code",
   "execution_count": 59,
   "id": "quantitative-accident",
   "metadata": {},
   "outputs": [],
   "source": [
    "structure_rmsd_fragments_masked=np.ma.masked_where(structure_rmsd_fragments == 0, structure_rmsd_fragments)\n",
    "structure_rmsd_masked_median = np.median(structure_rmsd_fragments_masked, axis=0)"
   ]
  },
  {
   "cell_type": "code",
   "execution_count": 58,
   "id": "30ea8b9d",
   "metadata": {},
   "outputs": [
    {
     "data": {
      "text/plain": [
       "array([0., 0., 0., 0., 0., 0., 0., 0., 0., 0., 0., 0., 0., 0., 0., 0., 0.,\n",
       "       0., 0., 0., 0., 0., 0., 0., 0., 0., 0., 0., 0., 0., 0., 0., 0., 0.,\n",
       "       0., 0., 0., 0., 0., 0., 0., 0., 0., 0., 0., 0., 0., 0., 0., 0., 0.,\n",
       "       0., 0., 0., 0., 0., 0., 0., 0., 0., 0., 0., 0., 0., 0., 0., 0., 0.,\n",
       "       0., 0., 0., 0., 0., 0., 0., 0., 0., 0., 0., 0., 0., 0., 0., 0., 0.,\n",
       "       0., 0., 0., 0., 0., 0., 0., 0., 0., 0., 0., 0., 0., 0., 0.])"
      ]
     },
     "execution_count": 58,
     "metadata": {},
     "output_type": "execute_result"
    }
   ],
   "source": [
    "structure_rmsd_median"
   ]
  },
  {
   "cell_type": "code",
   "execution_count": 60,
   "id": "surgical-louisville",
   "metadata": {},
   "outputs": [
    {
     "data": {
      "text/plain": [
       "masked_array(data=[--, --, --, --, --, --, --, --, --, --, --, --, --, --,\n",
       "                   --, --, --, --, --, --, --, --, --, --, --, --, --, --,\n",
       "                   --, --, --, --, --, --, --, --, --, --, --, --, --, --,\n",
       "                   --, --, --, --, --, 0.0, 0.0, 0.0, 0.0, 0.0, --, --,\n",
       "                   --, --, --, --, --, --, --, --, --, --, --, --, --, --,\n",
       "                   --, --, --, --, --, --, --, --, --, --, --, --, --, --,\n",
       "                   --, --, --, --, --, --, --, --, --, --, --, --, --, --,\n",
       "                   --, --, --, --],\n",
       "             mask=[ True,  True,  True,  True,  True,  True,  True,  True,\n",
       "                    True,  True,  True,  True,  True,  True,  True,  True,\n",
       "                    True,  True,  True,  True,  True,  True,  True,  True,\n",
       "                    True,  True,  True,  True,  True,  True,  True,  True,\n",
       "                    True,  True,  True,  True,  True,  True,  True,  True,\n",
       "                    True,  True,  True,  True,  True,  True,  True, False,\n",
       "                   False, False, False, False,  True,  True,  True,  True,\n",
       "                    True,  True,  True,  True,  True,  True,  True,  True,\n",
       "                    True,  True,  True,  True,  True,  True,  True,  True,\n",
       "                    True,  True,  True,  True,  True,  True,  True,  True,\n",
       "                    True,  True,  True,  True,  True,  True,  True,  True,\n",
       "                    True,  True,  True,  True,  True,  True,  True,  True,\n",
       "                    True,  True,  True,  True],\n",
       "       fill_value=1e+20)"
      ]
     },
     "execution_count": 60,
     "metadata": {},
     "output_type": "execute_result"
    }
   ],
   "source": [
    "structure_rmsd_masked_median"
   ]
  },
  {
   "cell_type": "markdown",
   "id": "74a9b1ae",
   "metadata": {},
   "source": [
    "### 3. Graph extraction\n",
    "Nodes are a subset of representative conformations and edges represent their similarity (or distance). The similarity is calculated combining all feature values. Representative conformations are found by unsupervised\n",
    "clustering and the number of clusters is identified automatically."
   ]
  },
  {
   "cell_type": "code",
   "execution_count": null,
   "id": "4cbe1173",
   "metadata": {},
   "outputs": [],
   "source": []
  },
  {
   "cell_type": "markdown",
   "id": "93b4add7",
   "metadata": {},
   "source": [
    "### 4. Pymol image\n",
    "An Pymol image including the PDB structures corresponding to the graph nodes.\n",
    "Centered (translate) the selected structures on the position(s) with the lowest feature\n",
    "variance. Residues in each structure will be displayed (color, size, ...) based on their\n",
    "feature variability within the ensemble."
   ]
  },
  {
   "cell_type": "code",
   "execution_count": null,
   "id": "085a80fe",
   "metadata": {},
   "outputs": [],
   "source": []
  }
 ],
 "metadata": {
  "kernelspec": {
   "display_name": "Python 3",
   "language": "python",
   "name": "python3"
  },
  "language_info": {
   "codemirror_mode": {
    "name": "ipython",
    "version": 3
   },
   "file_extension": ".py",
   "mimetype": "text/x-python",
   "name": "python",
   "nbconvert_exporter": "python",
   "pygments_lexer": "ipython3",
   "version": "3.8.8"
  }
 },
 "nbformat": 4,
 "nbformat_minor": 5
}
