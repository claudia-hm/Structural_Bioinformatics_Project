{
 "cells": [
  {
   "cell_type": "markdown",
   "id": "053ae3f5",
   "metadata": {},
   "source": [
    "# Task 1: conformational relationships within a single ensemble"
   ]
  },
  {
   "cell_type": "markdown",
   "id": "e6d7f893",
   "metadata": {},
   "source": [
    "Relationships within an ensemble will be identified considering the structural features of single\n",
    "conformations"
   ]
  },
  {
   "cell_type": "markdown",
   "id": "526abe25",
   "metadata": {},
   "source": [
    "### 0. Set-up"
   ]
  },
  {
   "cell_type": "code",
   "execution_count": 1,
   "id": "627aa029",
   "metadata": {},
   "outputs": [],
   "source": [
    "import numpy as np\n",
    "from Bio.PDB import PDBList, Superimposer, is_aa\n",
    "from Bio.PDB.PDBParser import PDBParser\n",
    "import requests\n",
    "import math\n",
    "import matplotlib.pyplot as plt"
   ]
  },
  {
   "cell_type": "code",
   "execution_count": 2,
   "id": "326fbbf9",
   "metadata": {},
   "outputs": [],
   "source": [
    "feature_folder = \"./features/\"\n",
    "dist_mat_folder = feature_folder + \"distance_matrices/\""
   ]
  },
  {
   "cell_type": "markdown",
   "id": "a673772c",
   "metadata": {},
   "source": [
    "### 1. Load PDB structures of one single PED ensemble"
   ]
  },
  {
   "cell_type": "markdown",
   "id": "f56617c1",
   "metadata": {},
   "source": [
    "Download PED ensembles"
   ]
  },
  {
   "cell_type": "code",
   "execution_count": 3,
   "id": "0927b650",
   "metadata": {},
   "outputs": [
    {
     "name": "stdout",
     "output_type": "stream",
     "text": [
      "Structure and dynamics of the MKK7\n"
     ]
    }
   ],
   "source": [
    "ped_id = \"PED00153\"\n",
    "url = \"https://proteinensemble.org/api/\" + ped_id\n",
    "resp_json = requests.get(url).json()\n",
    "print(resp_json[\"title\"])\n",
    "ensembles_ids = []\n",
    "for curr_ensemble in resp_json[\"ensembles\"]:\n",
    "    ensembles_ids.append(curr_ensemble[\"ensemble_id\"])\n",
    "\n",
    "# get direct link to the downloadable file (url as string)\n",
    "url = \"https://proteinensemble.org/api/download\"\n",
    "parameters = {\n",
    "   \"ensemble_id\": ensembles_ids\n",
    "}\n",
    "download_link = requests.get(url, params=parameters).text\n",
    "resp_file = requests.get(download_link.replace('\"', ''))\n",
    "\n",
    "# download ensembles\n",
    "with open(\"data/\" + ped_id + \".tar\", \"wb\") as f:\n",
    "    f.write(resp_file.content)\n",
    "  "
   ]
  },
  {
   "cell_type": "markdown",
   "id": "56334fd0",
   "metadata": {},
   "source": [
    "Extract compressed files"
   ]
  },
  {
   "cell_type": "code",
   "execution_count": 4,
   "id": "a2750573",
   "metadata": {},
   "outputs": [],
   "source": [
    "tar_to_extract = \"./data/\" + ped_id + \".tar\"\n",
    "data_folder = \"./data/\""
   ]
  },
  {
   "cell_type": "code",
   "execution_count": 5,
   "id": "a01f8e49",
   "metadata": {},
   "outputs": [
    {
     "name": "stdout",
     "output_type": "stream",
     "text": [
      "x PED00153e007.pdb.tar.gz\n",
      "x PED00153e008.pdb.tar.gz\n",
      "x PED00153e009.pdb.tar.gz\n",
      "x PED00153e010.pdb.tar.gz\n",
      "x PED00153e011.pdb.tar.gz\n"
     ]
    }
   ],
   "source": [
    "!tar -xzvf $tar_to_extract -C $data_folder"
   ]
  },
  {
   "cell_type": "code",
   "execution_count": 6,
   "id": "b72b2a3b",
   "metadata": {},
   "outputs": [
    {
     "name": "stdout",
     "output_type": "stream",
     "text": [
      "x PED00153e007.pdb\n",
      "x PED00153e008.pdb\n",
      "x PED00153e009.pdb\n",
      "x PED00153e010.pdb\n",
      "x PED00153e011.pdb\n"
     ]
    }
   ],
   "source": [
    "for ensemble in ensembles_ids:\n",
    "    tar_to_extract = \"./data/\" + ensemble + \".pdb.tar.gz\"\n",
    "    !tar -xzvf $tar_to_extract -C $data_folder"
   ]
  },
  {
   "cell_type": "markdown",
   "id": "fb92fd6a",
   "metadata": {},
   "source": [
    "Select the first ensemble and retrieve number of conformations and residues"
   ]
  },
  {
   "cell_type": "code",
   "execution_count": 7,
   "id": "51589a19",
   "metadata": {},
   "outputs": [],
   "source": [
    "ensemble_id = ensembles_ids[0]\n",
    "ensemble = PDBParser(QUIET=True).get_structure(ensembles_ids[0], \"data/{}.pdb\".format(ensemble_id))"
   ]
  },
  {
   "cell_type": "code",
   "execution_count": 8,
   "id": "ca8129e9",
   "metadata": {},
   "outputs": [],
   "source": [
    "M = len(ensemble)\n",
    "N = 0"
   ]
  },
  {
   "cell_type": "code",
   "execution_count": 9,
   "id": "73f71f0c",
   "metadata": {},
   "outputs": [],
   "source": [
    "structure_0 = ensemble[0]\n",
    "for chain in structure_0:\n",
    "    for residue in chain:\n",
    "        if is_aa(residue):  # Filter hetero groups (returns only amino acids)\n",
    "                # residue.id tuple contains hetero_flag, position, insertion_code\n",
    "                # print(\"model {} chain {} residue_id {} resname {} resname_3to1 {}\".format(model.id, chain.id, residue.id, residue.get_resname(),\n",
    "                #                                        IUPACData.protein_letters_3to1.get(residue.get_resname().capitalize())))\n",
    "            N+=1\n",
    "            #for atom in residue:\n",
    "                #print(\"atom {} {} {}\".format(atom.id, atom.get_bfactor(), atom.get_coord()))\n",
    "        else:\n",
    "            print(residue.id)"
   ]
  },
  {
   "cell_type": "code",
   "execution_count": 10,
   "id": "d655e75c",
   "metadata": {},
   "outputs": [
    {
     "name": "stdout",
     "output_type": "stream",
     "text": [
      "Number of residues in one conformation: 100\n",
      "Number of conformations in one ensemble: 200\n"
     ]
    }
   ],
   "source": [
    "print(\"Number of residues in one conformation: \" + str(N))\n",
    "print(\"Number of conformations in one ensemble: \" + str(M))"
   ]
  },
  {
   "cell_type": "markdown",
   "id": "f3002ed6",
   "metadata": {},
   "source": [
    "### 2. Feature extraction\n",
    "In the following we summarize the single conformation features that we are going to compute"
   ]
  },
  {
   "cell_type": "markdown",
   "id": "4fd447c3",
   "metadata": {},
   "source": [
    "* Single conformation features\n",
    "\n",
    "| Feature       | Dimension     |\n",
    "| :------------- |:-------------|\n",
    "| Radius of gyration of the structure | Scalar |\n",
    "| Relative accessible surface area (ASA) for each residue | Vector of size $N$      |\n",
    "| Secondary structure (SS) for each residue and class | Vector of size $N$       |\n",
    "|Residue distance matrix considering Cα atoms | Matrix of shape $N \\times N$ (symmetric) |\n",
    "\n",
    "where $N$ is the number of residues in one conformation.\n",
    "\n",
    "* Ensembles features (multiple conformations)\n",
    "\n",
    "| Feature       | Dimension     |\n",
    "| :------------- |:-------------|\n",
    "| Radius of gyration for each conformation in the ensemble | Vector of size $M$ |\n",
    "| Secondary structure entropy for each position across ensemble conformations | Vector of size $N$      |\n",
    "| Median solvent accessibility for each position across ensemble conformations | Vector of size $N$       |\n",
    "| Median RMSD for each position across ensemble conformations | Vector of size $N$ |\n",
    "| Median distance of each pair of equivalent positions across ensemble conformations | Matrix of shape $N \\times N$ (symmetric) |\n",
    "|Standard deviation of the distance of each pair of equivalent positions across ensemble conformations|Matrix of shape $N \\times N$ (symmetric) |\n",
    "\n",
    "where $N$ is the number of residues in one conformation and $M$ is the number of conformations in one ensemble."
   ]
  },
  {
   "cell_type": "markdown",
   "id": "d114df41",
   "metadata": {},
   "source": [
    "* Claudia --> 1, 4\n",
    "* Matteo --> 2\n",
    "* Leonardo --> 3\n",
    "\n",
    "Leggere un po Lazar."
   ]
  },
  {
   "cell_type": "markdown",
   "id": "7f420182",
   "metadata": {},
   "source": [
    "#### Radius of gyration"
   ]
  },
  {
   "cell_type": "code",
   "execution_count": 11,
   "id": "81cc38cc",
   "metadata": {},
   "outputs": [],
   "source": [
    "def radius_gyration(chain):\n",
    "    '''\n",
    "    Calculates the Radius of Gyration (Rg) of a protein in Angstroms.\n",
    "    Does not use mass and assume heavy atoms have the same mass.\n",
    "\n",
    "    https://en.wikipedia.org/wiki/Radius_of_gyration  (formula considering mass)\n",
    "    https://link.springer.com/article/10.1134/S0026893308040195  (formula without mass)\n",
    "    '''\n",
    "\n",
    "    # Heavy atoms coordinates\n",
    "    coord = list()\n",
    "    for atom in chain.get_atoms():\n",
    "        if atom.get_name()[0] in ['C', 'O', 'N', 'S']:\n",
    "            coord.append(atom.get_coord())\n",
    "    coord = np.array(coord)  # N X 3\n",
    "\n",
    "    barycenter = np.sum(coord, axis=0) / coord.shape[0]  # center of mass is more correct\n",
    "\n",
    "    # Calculate distance of each atom from the barycenter\n",
    "    dist = coord - barycenter\n",
    "    dist = dist * dist\n",
    "    dist = np.sqrt(np.sum(dist, axis=1))\n",
    "    #print(dist)\n",
    "\n",
    "    return round(math.sqrt(np.sum(dist * dist) / len(coord)), 3)"
   ]
  },
  {
   "cell_type": "code",
   "execution_count": 12,
   "id": "78d2e749",
   "metadata": {},
   "outputs": [
    {
     "name": "stdout",
     "output_type": "stream",
     "text": [
      "Radius of gyration of the first structure: 34.18\n"
     ]
    }
   ],
   "source": [
    "print(\"Radius of gyration of the first structure: %.2f\" % radius_gyration(structure_0))"
   ]
  },
  {
   "cell_type": "code",
   "execution_count": 13,
   "id": "16c40b1c",
   "metadata": {},
   "outputs": [],
   "source": [
    "RG = np.zeros(M)\n",
    "for i in range(M):\n",
    "    RG[i]= radius_gyration(ensemble[i])"
   ]
  },
  {
   "cell_type": "code",
   "execution_count": 14,
   "id": "701a2344",
   "metadata": {},
   "outputs": [],
   "source": [
    "np.save(feature_folder + \"radius_gyration.npy\", RG)"
   ]
  },
  {
   "cell_type": "markdown",
   "id": "bffe9d60",
   "metadata": {},
   "source": [
    "#### Residue distance matrix considering Cα atoms"
   ]
  },
  {
   "cell_type": "code",
   "execution_count": 15,
   "id": "d952cfee",
   "metadata": {},
   "outputs": [],
   "source": [
    "def get_distance_matrix(residues, seq_sep=6):\n",
    "\n",
    "    # Calculate the distance matrix\n",
    "    distances = []\n",
    "    for residue1 in residues:\n",
    "        if residue1.id[0] == \" \":  # Exclude hetero/water residues\n",
    "            row = []\n",
    "            for residue2 in residues:\n",
    "                if residue2.id[0] == \" \":  # Exclude hetero/water residues\n",
    "                    if abs(residue1.id[1] - residue2.id[1]) >= seq_sep:\n",
    "                        row.append(residue1[\"CA\"] - residue2[\"CA\"])\n",
    "                    else:\n",
    "                        row.append(None)\n",
    "            distances.append(row)\n",
    "\n",
    "    return np.array(distances, dtype=float)"
   ]
  },
  {
   "cell_type": "code",
   "execution_count": 16,
   "id": "e92085c7",
   "metadata": {},
   "outputs": [],
   "source": [
    "sequence_separation = 0\n",
    "distance_matrices = []\n",
    "for i in range(M): \n",
    "    dist_matrix = get_distance_matrix(ensemble[i]['A'], sequence_separation)\n",
    "    distance_matrices.append(dist_matrix)\n",
    "    np.save(dist_mat_folder + ensemble_id + \"_\" + str(i) + \".npy\", dist_matrix)"
   ]
  },
  {
   "cell_type": "markdown",
   "id": "a49e95ed",
   "metadata": {},
   "source": [
    "#### Median distance of each pair of equivalent positions across ensemble conformations."
   ]
  },
  {
   "cell_type": "code",
   "execution_count": 17,
   "id": "b8e0efd5",
   "metadata": {},
   "outputs": [],
   "source": [
    "med_distance = np.zeros((N,N))\n",
    "for i in range(N): #for \n",
    "    for j in range(N):#for every conformation\n",
    "        distances = []\n",
    "        for k in range(M):\n",
    "            distances.append(distance_matrices[k][i,j])\n",
    "        med_distance[i,j] = np.median(distances)"
   ]
  },
  {
   "cell_type": "code",
   "execution_count": 18,
   "id": "f374ee31",
   "metadata": {},
   "outputs": [],
   "source": [
    "np.save(feature_folder + \"median_distance.npy\", med_distance)"
   ]
  },
  {
   "cell_type": "code",
   "execution_count": 19,
   "id": "2f6e42ee",
   "metadata": {},
   "outputs": [
    {
     "data": {
      "image/png": "[encoded data removed]",
      "text/plain": [
       "<Figure size 432x432 with 2 Axes>"
      ]
     },
     "metadata": {
      "needs_background": "light"
     },
     "output_type": "display_data"
    }
   ],
   "source": [
    "fig, ax = plt.subplots(figsize=(6, 6))\n",
    "im = ax.imshow(med_distance)\n",
    "fig.colorbar(im, fraction=0.03, pad=0.05)\n",
    "plt.title(\"Median distance between equivalent residues across ensemble conformations\")\n",
    "plt.show()"
   ]
  },
  {
   "cell_type": "markdown",
   "id": "501eebf8",
   "metadata": {},
   "source": [
    "#### Standard deviation of the distance of each pair of equivalent positions across ensemble conformations"
   ]
  },
  {
   "cell_type": "code",
   "execution_count": 20,
   "id": "cc8b4fc5",
   "metadata": {},
   "outputs": [],
   "source": [
    "stdev_distance = np.zeros((N,N))\n",
    "for i in range(N): #for \n",
    "    for j in range(N):#for every conformation\n",
    "        distances = []\n",
    "        for k in range(M):\n",
    "            distances.append(distance_matrices[k][i,j])\n",
    "        stdev_distance[i,j] = np.std(distances)"
   ]
  },
  {
   "cell_type": "code",
   "execution_count": 21,
   "id": "b1a77e47",
   "metadata": {},
   "outputs": [
    {
     "data": {
      "image/png": "[encoded data removed]",
      "text/plain": [
       "<Figure size 432x432 with 2 Axes>"
      ]
     },
     "metadata": {
      "needs_background": "light"
     },
     "output_type": "display_data"
    }
   ],
   "source": [
    "fig, ax = plt.subplots(figsize=(6, 6))\n",
    "im = ax.imshow(stdev_distance)\n",
    "fig.colorbar(im, fraction=0.03, pad=0.05)\n",
    "plt.title(\"Standard deviation of the distance of each pair of equivalent positions across ensemble conformations\")\n",
    "plt.show()"
   ]
  },
  {
   "cell_type": "code",
   "execution_count": 22,
   "id": "d72eda55",
   "metadata": {},
   "outputs": [],
   "source": [
    "np.save(feature_folder + \"stdev_distance.npy\", stdev_distance)"
   ]
  },
  {
   "cell_type": "code",
   "execution_count": null,
   "id": "16f1c5e1",
   "metadata": {},
   "outputs": [],
   "source": []
  },
  {
   "cell_type": "markdown",
   "id": "0241526f",
   "metadata": {},
   "source": [
    "#### Median RMSD for each position across ensemble conformations 1."
   ]
  },
  {
   "cell_type": "code",
   "execution_count": 76,
   "id": "ad731971",
   "metadata": {},
   "outputs": [],
   "source": [
    "# Superimpose all models to the first model, fragment-by-fragment (sliding window)\n",
    "super_imposer = Superimposer()\n",
    "structure_rmsd_fragments = []  # RMSD, no_models X no_fragments X fragment_size\n",
    "window_size = 5\n",
    "ref_model = [atom for atom in ensemble[0].get_atoms() if atom.get_name() == \"CA\"]  # CA of the first model"
   ]
  },
  {
   "cell_type": "code",
   "execution_count": 77,
   "id": "6cf43fce",
   "metadata": {},
   "outputs": [],
   "source": [
    "# Iterate all models\n",
    "for i, model in enumerate(ensemble):\n",
    "    if i > 0:\n",
    "        model_rmsd = []  # RMSD, no_fragment X fragment_size\n",
    "        alt_model = [atom for atom in model.get_atoms() if atom.get_name() == \"CA\"]  # coords of the model\n",
    "\n",
    "        # Iterate fragments\n",
    "        for start in range(len(ref_model) - window_size):\n",
    "            end = start + window_size\n",
    "            ref_fragment = ref_model[start:end]\n",
    "            alt_fragment = alt_model[start:end]\n",
    "\n",
    "            # Calculate rotation/translation matrices\n",
    "            super_imposer.set_atoms(ref_fragment, alt_fragment)\n",
    "            # print(super_imposer.rms, super_imposer.rotran)\n",
    "\n",
    "            # Rotate-translate coordinates\n",
    "            alt_fragment_coord = np.array([atom.get_coord() for atom in alt_fragment])\n",
    "            alt_fragment_coord = np.dot(super_imposer.rotran[0].T, alt_fragment_coord.T).T\n",
    "            alt_fragment_coord = alt_fragment_coord + super_imposer.rotran[1]\n",
    "\n",
    "            # Calculate RMSD\n",
    "            # https://en.wikipedia.org/wiki/Root-mean-square_deviation_of_atomic_positions\n",
    "            ref_fragment_coord = np.array([atom.get_coord() for atom in ref_fragment])\n",
    "            dist = ref_fragment_coord - alt_fragment_coord\n",
    "            # rmsd_fragment = np.sqrt(np.sum(dist * dist) / window_size)  # Total RMSD of the fragment. Identical to super_imposer.rms\n",
    "            rmsd_res = np.sqrt(np.sum(dist * dist, axis=1))  # RMSD for each residue of the fragment\n",
    "\n",
    "            model_rmsd.append(rmsd_res)\n",
    "\n",
    "        structure_rmsd_fragments.append(model_rmsd)"
   ]
  },
  {
   "cell_type": "code",
   "execution_count": 78,
   "id": "3eb5fcf8",
   "metadata": {},
   "outputs": [],
   "source": [
    "# Calculate average RMSD per position\n",
    "structure_rmsd_fragments = np.array(structure_rmsd_fragments)  # no_models X no_fragments X fragment_size\n",
    "# Calculate the RMSD average for each fragments along all models\n",
    "structure_rmsd_fragments = np.average(structure_rmsd_fragments, axis=0)  # no_fragments X fragment_size"
   ]
  },
  {
   "cell_type": "code",
   "execution_count": 79,
   "id": "afa7acb0",
   "metadata": {},
   "outputs": [
    {
     "name": "stdout",
     "output_type": "stream",
     "text": [
      "(95, 100)\n"
     ]
    }
   ],
   "source": [
    "# Pad with right zeros to reach the sequence length (no_fragments + fragment_size)\n",
    "structure_rmsd_fragments = np.pad(structure_rmsd_fragments, ((0, 0), (0, structure_rmsd_fragments.shape[0])))\n",
    "print(structure_rmsd_fragments.shape)"
   ]
  },
  {
   "cell_type": "code",
   "execution_count": 83,
   "id": "50fda08c",
   "metadata": {},
   "outputs": [
    {
     "name": "stdout",
     "output_type": "stream",
     "text": [
      "[[1.85823796 1.97971182 2.3327567  ... 0.         0.         0.        ]\n",
      " [0.         2.46020726 1.95564581 ... 0.         0.         0.        ]\n",
      " [0.         0.         2.89527806 ... 0.         0.         0.        ]\n",
      " ...\n",
      " [0.         0.         0.         ... 0.         0.         0.        ]\n",
      " [0.         0.         0.         ... 1.53973367 0.         0.        ]\n",
      " [0.         0.         0.         ... 1.80470413 1.61334661 0.        ]]\n"
     ]
    }
   ],
   "source": [
    "# Roll the fragments one by one (add heading zeros)\n",
    "for i, row in enumerate(structure_rmsd_fragments):\n",
    "    structure_rmsd_fragments[i] = np.roll(row, i)\n",
    "print(structure_rmsd_fragments)"
   ]
  },
  {
   "cell_type": "code",
   "execution_count": 88,
   "id": "c898516d",
   "metadata": {},
   "outputs": [
    {
     "data": {
      "text/plain": [
       "array([0.        , 0.        , 0.        , 0.        , 0.        ,\n",
       "       0.        , 0.        , 0.        , 0.        , 0.        ,\n",
       "       0.        , 0.        , 0.        , 0.        , 0.        ,\n",
       "       0.        , 0.        , 0.        , 0.        , 0.        ,\n",
       "       0.        , 0.        , 0.        , 0.        , 0.        ,\n",
       "       0.        , 0.        , 0.        , 0.        , 0.        ,\n",
       "       0.        , 0.        , 0.        , 0.        , 0.        ,\n",
       "       0.        , 0.        , 0.        , 0.        , 0.        ,\n",
       "       0.        , 0.        , 0.        , 0.        , 0.        ,\n",
       "       0.        , 0.        , 0.        , 0.        , 0.        ,\n",
       "       0.        , 0.        , 0.        , 0.        , 0.        ,\n",
       "       0.        , 0.        , 0.        , 0.        , 0.        ,\n",
       "       0.        , 0.        , 0.        , 0.        , 0.        ,\n",
       "       0.        , 0.        , 0.        , 0.        , 0.        ,\n",
       "       0.        , 0.        , 0.        , 0.        , 0.        ,\n",
       "       0.        , 0.        , 0.        , 0.        , 0.        ,\n",
       "       0.        , 0.        , 0.        , 0.        , 0.        ,\n",
       "       0.        , 0.        , 0.        , 0.        , 0.        ,\n",
       "       0.        , 0.        , 0.        , 0.        , 1.77217244,\n",
       "       1.87157774, 1.46729031, 1.80470413, 1.61334661, 0.        ])"
      ]
     },
     "execution_count": 88,
     "metadata": {},
     "output_type": "execute_result"
    }
   ],
   "source": [
    "structure_rmsd_fragments[94]"
   ]
  },
  {
   "cell_type": "code",
   "execution_count": 91,
   "id": "75228cea",
   "metadata": {},
   "outputs": [],
   "source": [
    "# Calculate average along columns of overlapping fragments (average RMSD per residue)\n",
    "structure_rmsd_median = np.median(structure_rmsd_fragments, axis=0)"
   ]
  },
  {
   "cell_type": "code",
   "execution_count": 92,
   "id": "30ea8b9d",
   "metadata": {},
   "outputs": [
    {
     "data": {
      "text/plain": [
       "array([0., 0., 0., 0., 0., 0., 0., 0., 0., 0., 0., 0., 0., 0., 0., 0., 0.,\n",
       "       0., 0., 0., 0., 0., 0., 0., 0., 0., 0., 0., 0., 0., 0., 0., 0., 0.,\n",
       "       0., 0., 0., 0., 0., 0., 0., 0., 0., 0., 0., 0., 0., 0., 0., 0., 0.,\n",
       "       0., 0., 0., 0., 0., 0., 0., 0., 0., 0., 0., 0., 0., 0., 0., 0., 0.,\n",
       "       0., 0., 0., 0., 0., 0., 0., 0., 0., 0., 0., 0., 0., 0., 0., 0., 0.,\n",
       "       0., 0., 0., 0., 0., 0., 0., 0., 0., 0., 0., 0., 0., 0., 0.])"
      ]
     },
     "execution_count": 92,
     "metadata": {},
     "output_type": "execute_result"
    }
   ],
   "source": [
    "structure_rmsd_median"
   ]
  },
  {
   "cell_type": "markdown",
   "id": "74a9b1ae",
   "metadata": {},
   "source": [
    "### 3. Graph extraction\n",
    "Nodes are a subset of representative conformations and edges represent their similarity (or distance). The similarity is calculated combining all feature values. Representative conformations are found by unsupervised\n",
    "clustering and the number of clusters is identified automatically."
   ]
  },
  {
   "cell_type": "code",
   "execution_count": null,
   "id": "4cbe1173",
   "metadata": {},
   "outputs": [],
   "source": []
  },
  {
   "cell_type": "markdown",
   "id": "93b4add7",
   "metadata": {},
   "source": [
    "### 4. Pymol image\n",
    "An Pymol image including the PDB structures corresponding to the graph nodes.\n",
    "Centered (translate) the selected structures on the position(s) with the lowest feature\n",
    "variance. Residues in each structure will be displayed (color, size, ...) based on their\n",
    "feature variability within the ensemble."
   ]
  },
  {
   "cell_type": "code",
   "execution_count": null,
   "id": "085a80fe",
   "metadata": {},
   "outputs": [],
   "source": []
  }
 ],
 "metadata": {
  "kernelspec": {
   "display_name": "Python 3",
   "language": "python",
   "name": "python3"
  },
  "language_info": {
   "codemirror_mode": {
    "name": "ipython",
    "version": 3
   },
   "file_extension": ".py",
   "mimetype": "text/x-python",
   "name": "python",
   "nbconvert_exporter": "python",
   "pygments_lexer": "ipython3",
   "version": "3.7.6"
  }
 },
 "nbformat": 4,
 "nbformat_minor": 5
}
