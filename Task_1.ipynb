{
 "cells": [
  {
   "cell_type": "markdown",
   "id": "053ae3f5",
   "metadata": {},
   "source": [
    "# Task 1: conformational relationships within a single ensemble"
   ]
  },
  {
   "cell_type": "markdown",
   "id": "e6d7f893",
   "metadata": {},
   "source": [
    "Relationships within an ensemble will be identified considering the structural features of single\n",
    "conformations"
   ]
  },
  {
   "cell_type": "markdown",
   "id": "526abe25",
   "metadata": {},
   "source": [
    "### 0. Set-up"
   ]
  },
  {
   "cell_type": "code",
   "execution_count": null,
   "id": "627aa029",
   "metadata": {},
   "outputs": [],
   "source": []
  },
  {
   "cell_type": "markdown",
   "id": "a673772c",
   "metadata": {},
   "source": [
    "### 1. Load PDB structures of one single PED ensemble"
   ]
  },
  {
   "cell_type": "code",
   "execution_count": null,
   "id": "0927b650",
   "metadata": {},
   "outputs": [],
   "source": []
  },
  {
   "cell_type": "markdown",
   "id": "f3002ed6",
   "metadata": {},
   "source": [
    "### 2. Feature extraction (single conformation)\n",
    "In the following we summarize the single conformation features that we are going to compute"
   ]
  },
  {
   "cell_type": "markdown",
   "id": "4fd447c3",
   "metadata": {},
   "source": [
    "| Feature       | Dimension     |\n",
    "| :------------- |:-------------|\n",
    "| Radius of gyration of the structure | Scalar |\n",
    "| Relative accessible surface area (ASA) for each residue | Vector of size $N$      |\n",
    "| Secondary structure (SS) for each residue and class | Vector of size $N$       |\n",
    "|Residue distance matrix considering Cα atoms | Matrix of shape $N \\times N$ (symmetric) |\n",
    "\n",
    "where $N$ is the number of residues in one conformation."
   ]
  },
  {
   "cell_type": "code",
   "execution_count": null,
   "id": "81cc38cc",
   "metadata": {},
   "outputs": [],
   "source": []
  },
  {
   "cell_type": "markdown",
   "id": "74a9b1ae",
   "metadata": {},
   "source": [
    "### 3. Graph extraction\n",
    "Nodes are a subset of representative conformations and edges represent their similarity (or distance). The similarity is calculated combining all feature values. Representative conformations are found by unsupervised\n",
    "clustering and the number of clusters is identified automatically."
   ]
  },
  {
   "cell_type": "code",
   "execution_count": null,
   "id": "4cbe1173",
   "metadata": {},
   "outputs": [],
   "source": []
  },
  {
   "cell_type": "markdown",
   "id": "93b4add7",
   "metadata": {},
   "source": [
    "### 4. Pymol image\n",
    "An Pymol image including the PDB structures corresponding to the graph nodes.\n",
    "Centered (translate) the selected structures on the position(s) with the lowest feature\n",
    "variance. Residues in each structure will be displayed (color, size, ...) based on their\n",
    "feature variability within the ensemble."
   ]
  },
  {
   "cell_type": "code",
   "execution_count": null,
   "id": "085a80fe",
   "metadata": {},
   "outputs": [],
   "source": []
  }
 ],
 "metadata": {
  "kernelspec": {
   "display_name": "Python 3",
   "language": "python",
   "name": "python3"
  },
  "language_info": {
   "codemirror_mode": {
    "name": "ipython",
    "version": 3
   },
   "file_extension": ".py",
   "mimetype": "text/x-python",
   "name": "python",
   "nbconvert_exporter": "python",
   "pygments_lexer": "ipython3",
   "version": "3.7.6"
  }
 },
 "nbformat": 4,
 "nbformat_minor": 5
}
