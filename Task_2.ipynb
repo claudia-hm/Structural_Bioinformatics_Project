{
 "cells": [
  {
   "cell_type": "markdown",
   "id": "6ad611c0",
   "metadata": {},
   "source": [
    "# Task 2: conformational relationships between different ensembles"
   ]
  },
  {
   "cell_type": "markdown",
   "id": "15d3c097",
   "metadata": {},
   "source": [
    "Relationships between different ensembles of the same protein will be identified considering ensemble features calculated from the output of the first software component. The students are asked to identify a measure (global score) to quantify global differences between ensembles pairs and another measure (local score) to identify low/high variance positions along the sequence."
   ]
  },
  {
   "cell_type": "markdown",
   "id": "3c865659",
   "metadata": {},
   "source": [
    "### 0. Set-up"
   ]
  },
  {
   "cell_type": "code",
   "execution_count": null,
   "id": "968f4b0b",
   "metadata": {},
   "outputs": [],
   "source": []
  },
  {
   "cell_type": "markdown",
   "id": "dc81498e",
   "metadata": {},
   "source": [
    "### 1. Load features files of two or more ensembles"
   ]
  },
  {
   "cell_type": "code",
   "execution_count": null,
   "id": "d325e96b",
   "metadata": {},
   "outputs": [],
   "source": []
  },
  {
   "cell_type": "markdown",
   "id": "1117c6cd",
   "metadata": {},
   "source": [
    "### 2. Feature files"
   ]
  },
  {
   "cell_type": "code",
   "execution_count": null,
   "id": "cd13829e",
   "metadata": {},
   "outputs": [],
   "source": []
  },
  {
   "cell_type": "markdown",
   "id": "fc664643",
   "metadata": {},
   "source": [
    "### 3. Dendrogram or heatmap\n",
    "A dendrogram/heatmap representing the distance (global score) between ensembles"
   ]
  },
  {
   "cell_type": "code",
   "execution_count": null,
   "id": "29b2cc4d",
   "metadata": {},
   "outputs": [],
   "source": []
  },
  {
   "cell_type": "markdown",
   "id": "4e60fd93",
   "metadata": {},
   "source": [
    "### 4.  Plot of feature values along sequence positions\n",
    "A plot showing features values along sequence positions (local score)."
   ]
  },
  {
   "cell_type": "code",
   "execution_count": null,
   "id": "38f51106",
   "metadata": {},
   "outputs": [],
   "source": []
  }
 ],
 "metadata": {
  "kernelspec": {
   "display_name": "Python 3",
   "language": "python",
   "name": "python3"
  },
  "language_info": {
   "codemirror_mode": {
    "name": "ipython",
    "version": 3
   },
   "file_extension": ".py",
   "mimetype": "text/x-python",
   "name": "python",
   "nbconvert_exporter": "python",
   "pygments_lexer": "ipython3",
   "version": "3.7.6"
  }
 },
 "nbformat": 4,
 "nbformat_minor": 5
}
